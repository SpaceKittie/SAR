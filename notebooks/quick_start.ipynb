{
 "cells": [
  {
   "cell_type": "markdown",
   "metadata": {},
   "source": [
    "# Quick Start: Using the SAR Recommender System\n",
    "\n",
    "This notebook demonstrates how to use our custom SAR implementation for generating recommendations."
   ]
  },
  {
   "cell_type": "code",
   "execution_count": 24,
   "metadata": {},
   "outputs": [],
   "source": [
    "import pandas as pd\n",
    "import numpy as np\n",
    "import sys\n",
    "import os\n",
    "import warnings\n",
    "import itertools\n",
    "warnings.filterwarnings('ignore')\n",
    "\n",
    "# Add the src directory to Python path\n",
    "sys.path.append(os.path.join(os.getcwd(), '..'))\n",
    "\n",
    "from src.models.sar import SARModel\n",
    "from src.evaluation.metrics import precision_at_k, recall_at_k, ndcg_at_k"
   ]
  },
  {
   "cell_type": "markdown",
   "metadata": {},
   "source": [
    "## 1. Load Your Data\n",
    "\n",
    "Load your interaction data. The data should have these columns:\n",
    "- UserId: User identifier\n",
    "- ItemId: Item identifier\n",
    "- Rating: Interaction strength (e.g., rating, purchase amount)\n",
    "- Timestamp: Time of interaction"
   ]
  },
  {
   "cell_type": "code",
   "execution_count": 25,
   "metadata": {},
   "outputs": [
    {
     "name": "stdout",
     "output_type": "stream",
     "text": [
      "Data shape: (100000, 4)\n"
     ]
    },
    {
     "data": {
      "text/html": [
       "<div>\n",
       "<style scoped>\n",
       "    .dataframe tbody tr th:only-of-type {\n",
       "        vertical-align: middle;\n",
       "    }\n",
       "\n",
       "    .dataframe tbody tr th {\n",
       "        vertical-align: top;\n",
       "    }\n",
       "\n",
       "    .dataframe thead th {\n",
       "        text-align: right;\n",
       "    }\n",
       "</style>\n",
       "<table border=\"1\" class=\"dataframe\">\n",
       "  <thead>\n",
       "    <tr style=\"text-align: right;\">\n",
       "      <th></th>\n",
       "      <th>UserId</th>\n",
       "      <th>Timestamp</th>\n",
       "      <th>Rating</th>\n",
       "      <th>ItemId</th>\n",
       "    </tr>\n",
       "  </thead>\n",
       "  <tbody>\n",
       "    <tr>\n",
       "      <th>0</th>\n",
       "      <td>39309124</td>\n",
       "      <td>1627783200</td>\n",
       "      <td>0.0</td>\n",
       "      <td>20075</td>\n",
       "    </tr>\n",
       "    <tr>\n",
       "      <th>1</th>\n",
       "      <td>13243611</td>\n",
       "      <td>1627790400</td>\n",
       "      <td>0.1</td>\n",
       "      <td>29046</td>\n",
       "    </tr>\n",
       "    <tr>\n",
       "      <th>2</th>\n",
       "      <td>32143353</td>\n",
       "      <td>1627790400</td>\n",
       "      <td>0.0</td>\n",
       "      <td>12475</td>\n",
       "    </tr>\n",
       "    <tr>\n",
       "      <th>3</th>\n",
       "      <td>8744795</td>\n",
       "      <td>1627794000</td>\n",
       "      <td>0.0</td>\n",
       "      <td>22499</td>\n",
       "    </tr>\n",
       "    <tr>\n",
       "      <th>4</th>\n",
       "      <td>9571056</td>\n",
       "      <td>1627797600</td>\n",
       "      <td>10.0</td>\n",
       "      <td>23072</td>\n",
       "    </tr>\n",
       "  </tbody>\n",
       "</table>\n",
       "</div>"
      ],
      "text/plain": [
       "     UserId   Timestamp  Rating  ItemId\n",
       "0  39309124  1627783200     0.0   20075\n",
       "1  13243611  1627790400     0.1   29046\n",
       "2  32143353  1627790400     0.0   12475\n",
       "3   8744795  1627794000     0.0   22499\n",
       "4   9571056  1627797600    10.0   23072"
      ]
     },
     "execution_count": 25,
     "metadata": {},
     "output_type": "execute_result"
    }
   ],
   "source": [
    "# Load your data\n",
    "data = pd.read_csv('../data/synthetic_interactions.csv')\n",
    "\n",
    "# Ensure column names match what the model expects\n",
    "data = data.rename(columns={\n",
    "    'user_id': 'UserId',\n",
    "    'product_id': 'ItemId',\n",
    "    'interaction_revenue': 'Rating',\n",
    "    'interaction_timestamp': 'Timestamp'\n",
    "})\n",
    "\n",
    "# Convert timestamp to unix timestamp if it's not already\n",
    "data['Timestamp'] = pd.to_datetime(data['Timestamp']).astype('int64') // 10**9\n",
    "\n",
    "print(\"Data shape:\", data.shape)\n",
    "data.head()"
   ]
  },
  {
   "cell_type": "markdown",
   "metadata": {},
   "source": [
    "## 2. Split Data into Train and Test Sets\n",
    "\n",
    "We'll use time-based splitting to evaluate our model properly."
   ]
  },
  {
   "cell_type": "code",
   "execution_count": 26,
   "metadata": {},
   "outputs": [
    {
     "name": "stdout",
     "output_type": "stream",
     "text": [
      "Train set size: 80000\n",
      "Test set size: 20000\n"
     ]
    }
   ],
   "source": [
    "# Sort by timestamp\n",
    "data = data.sort_values('Timestamp')\n",
    "\n",
    "# Use last 20% of data as test set\n",
    "split_idx = int(len(data) * 0.8)\n",
    "train_data = data.iloc[:split_idx]\n",
    "test_data = data.iloc[split_idx:]\n",
    "\n",
    "print(f\"Train set size: {len(train_data)}\")\n",
    "print(f\"Test set size: {len(test_data)}\")"
   ]
  },
  {
   "cell_type": "markdown",
   "metadata": {},
   "source": [
    "## 3. Train the SAR Model\n",
    "\n",
    "Initialize and train the SAR model with your preferred parameters."
   ]
  },
  {
   "cell_type": "code",
   "execution_count": 27,
   "metadata": {},
   "outputs": [
    {
     "data": {
      "text/plain": [
       "<src.models.sar.SARModel at 0x22c63b8a650>"
      ]
     },
     "execution_count": 27,
     "metadata": {},
     "output_type": "execute_result"
    }
   ],
   "source": [
    "# Initialize the model\n",
    "model = SARModel(\n",
    "    similarity_type='lift', \n",
    "    time_decay_coefficient=1, \n",
    "    timedecay_formula=True  \n",
    ")\n",
    "\n",
    "# Train the model\n",
    "model.fit(train_data)"
   ]
  },
  {
   "cell_type": "markdown",
   "metadata": {},
   "source": [
    "## 4. Generate Recommendations\n",
    "\n",
    "Get recommendations for users in the test set."
   ]
  },
  {
   "cell_type": "code",
   "execution_count": 28,
   "metadata": {},
   "outputs": [
    {
     "name": "stdout",
     "output_type": "stream",
     "text": [
      "Users in training set: 2476\n",
      "Users in test set: 1909\n",
      "Users in both sets: 1821\n",
      "Generated recommendations shape: (14568, 3)\n"
     ]
    },
    {
     "data": {
      "text/html": [
       "<div>\n",
       "<style scoped>\n",
       "    .dataframe tbody tr th:only-of-type {\n",
       "        vertical-align: middle;\n",
       "    }\n",
       "\n",
       "    .dataframe tbody tr th {\n",
       "        vertical-align: top;\n",
       "    }\n",
       "\n",
       "    .dataframe thead th {\n",
       "        text-align: right;\n",
       "    }\n",
       "</style>\n",
       "<table border=\"1\" class=\"dataframe\">\n",
       "  <thead>\n",
       "    <tr style=\"text-align: right;\">\n",
       "      <th></th>\n",
       "      <th>UserId</th>\n",
       "      <th>ItemId</th>\n",
       "      <th>Score</th>\n",
       "    </tr>\n",
       "  </thead>\n",
       "  <tbody>\n",
       "    <tr>\n",
       "      <th>0</th>\n",
       "      <td>18710530</td>\n",
       "      <td>15491</td>\n",
       "      <td>1.000000e+00</td>\n",
       "    </tr>\n",
       "    <tr>\n",
       "      <th>1</th>\n",
       "      <td>18710530</td>\n",
       "      <td>18827</td>\n",
       "      <td>2.939813e-06</td>\n",
       "    </tr>\n",
       "    <tr>\n",
       "      <th>2</th>\n",
       "      <td>18710530</td>\n",
       "      <td>17408</td>\n",
       "      <td>8.364924e-07</td>\n",
       "    </tr>\n",
       "    <tr>\n",
       "      <th>3</th>\n",
       "      <td>18710530</td>\n",
       "      <td>11062</td>\n",
       "      <td>5.943974e-14</td>\n",
       "    </tr>\n",
       "    <tr>\n",
       "      <th>4</th>\n",
       "      <td>18710530</td>\n",
       "      <td>15228</td>\n",
       "      <td>1.157877e-15</td>\n",
       "    </tr>\n",
       "    <tr>\n",
       "      <th>5</th>\n",
       "      <td>18710530</td>\n",
       "      <td>16254</td>\n",
       "      <td>8.609717e-24</td>\n",
       "    </tr>\n",
       "    <tr>\n",
       "      <th>6</th>\n",
       "      <td>18710530</td>\n",
       "      <td>22438</td>\n",
       "      <td>2.085445e-30</td>\n",
       "    </tr>\n",
       "    <tr>\n",
       "      <th>7</th>\n",
       "      <td>18710530</td>\n",
       "      <td>11961</td>\n",
       "      <td>0.000000e+00</td>\n",
       "    </tr>\n",
       "    <tr>\n",
       "      <th>8</th>\n",
       "      <td>17235973</td>\n",
       "      <td>12374</td>\n",
       "      <td>1.000000e+00</td>\n",
       "    </tr>\n",
       "    <tr>\n",
       "      <th>9</th>\n",
       "      <td>17235973</td>\n",
       "      <td>23111</td>\n",
       "      <td>1.000000e+00</td>\n",
       "    </tr>\n",
       "  </tbody>\n",
       "</table>\n",
       "</div>"
      ],
      "text/plain": [
       "     UserId  ItemId         Score\n",
       "0  18710530   15491  1.000000e+00\n",
       "1  18710530   18827  2.939813e-06\n",
       "2  18710530   17408  8.364924e-07\n",
       "3  18710530   11062  5.943974e-14\n",
       "4  18710530   15228  1.157877e-15\n",
       "5  18710530   16254  8.609717e-24\n",
       "6  18710530   22438  2.085445e-30\n",
       "7  18710530   11961  0.000000e+00\n",
       "8  17235973   12374  1.000000e+00\n",
       "9  17235973   23111  1.000000e+00"
      ]
     },
     "execution_count": 28,
     "metadata": {},
     "output_type": "execute_result"
    }
   ],
   "source": [
    "# Get unique users from test set that also exist in training set\n",
    "train_users = set(train_data['UserId'].unique())\n",
    "test_users = set(test_data['UserId'].unique())\n",
    "common_users = list(train_users.intersection(test_users))\n",
    "\n",
    "print(f\"Users in training set: {len(train_users)}\")\n",
    "print(f\"Users in test set: {len(test_users)}\")\n",
    "print(f\"Users in both sets: {len(common_users)}\")\n",
    "\n",
    "# Generate recommendations only for users that exist in both sets\n",
    "recommendations = model.recommend_items(\n",
    "    user_ids=common_users,\n",
    "    n_items=8,\n",
    "    exclude_seen=True\n",
    ")\n",
    "\n",
    "print(\"Generated recommendations shape:\", recommendations.shape)\n",
    "recommendations.head(10)"
   ]
  },
  {
   "cell_type": "markdown",
   "metadata": {},
   "source": [
    "## 5. Evaluate the Model\n",
    "\n",
    "Calculate various metrics to evaluate the model's performance."
   ]
  },
  {
   "cell_type": "code",
   "execution_count": 29,
   "metadata": {},
   "outputs": [
    {
     "name": "stdout",
     "output_type": "stream",
     "text": [
      "Precision@8: 0.0026\n",
      "Recall@8: 0.0183\n",
      "NDCG@8: 0.0792\n"
     ]
    }
   ],
   "source": [
    "# Calculate metrics at k=10\n",
    "k = 8\n",
    "\n",
    "precision = precision_at_k(test_data, recommendations, k)\n",
    "recall = recall_at_k(test_data, recommendations, k)\n",
    "ndcg = ndcg_at_k(test_data, recommendations, k)\n",
    "\n",
    "print(f\"Precision@{k}: {precision:.4f}\")\n",
    "print(f\"Recall@{k}: {recall:.4f}\")\n",
    "print(f\"NDCG@{k}: {ndcg:.4f}\")"
   ]
  },
  {
   "cell_type": "markdown",
   "metadata": {},
   "source": [
    "## 6. Comparison with Popularity Baseline"
   ]
  },
  {
   "cell_type": "code",
   "execution_count": 30,
   "metadata": {},
   "outputs": [
    {
     "name": "stdout",
     "output_type": "stream",
     "text": [
      "\n",
      "Comparison of SAR vs Popularity Baseline:\n",
      "    Metric        SAR   Popularity\n",
      "-----------------------------------\n",
      "Precision@8:     0.0026       0.0018\n",
      "Recall@8:       0.0183       0.0142\n",
      "NDCG@8:         0.0792       0.0530\n"
     ]
    },
    {
     "data": {
      "image/png": "[encoded data removed]",
      "text/plain": [
       "<Figure size 1000x600 with 1 Axes>"
      ]
     },
     "metadata": {},
     "output_type": "display_data"
    }
   ],
   "source": [
    "# Implement popularity baseline\n",
    "def generate_popularity_recs(train_data, test_users, k=8):\n",
    "    \"\"\"Generate popularity-based recommendations with proper filtering and scoring\"\"\"\n",
    "    item_counts = train_data['ItemId'].value_counts().to_frame().reset_index()\n",
    "    item_counts.columns = ['ItemId', 'Count']\n",
    "    \n",
    "    # Create all possible user-item pairs for test users\n",
    "    user_item_list = list(itertools.product(test_users, item_counts['ItemId']))\n",
    "    users_items = pd.DataFrame(user_item_list, columns=['UserId', 'ItemId'])\n",
    "    \n",
    "    # Remove items the users have already interacted with\n",
    "    users_items_remove_seen = users_items.merge(\n",
    "        train_data[['UserId', 'ItemId']], \n",
    "        on=['UserId', 'ItemId'], \n",
    "        how='left', \n",
    "        indicator=True\n",
    "    ).query('_merge == \"left_only\"').drop('_merge', axis=1)\n",
    "    \n",
    "    # Generate recommendations\n",
    "    baseline_recommendations = pd.merge(item_counts, users_items_remove_seen, on=['ItemId'])\n",
    "    baseline_recommendations = baseline_recommendations.sort_values(['UserId', 'Count'], ascending=[True, False])\n",
    "    baseline_recommendations = baseline_recommendations.groupby('UserId').head(k)\n",
    "    \n",
    "    # Format to match our SAR recommendations format\n",
    "    baseline_recommendations = baseline_recommendations.rename(columns={'Count': 'Score'})\n",
    "    return baseline_recommendations[['UserId', 'ItemId', 'Score']]\n",
    "\n",
    "# Generate popularity baseline recommendations\n",
    "pop_recommendations = generate_popularity_recs(train_data, test_users, k=k)\n",
    "\n",
    "# Calculate metrics for both models\n",
    "print(\"\\nComparison of SAR vs Popularity Baseline:\")\n",
    "print(f\"{'Metric':>10} {'SAR':>10} {'Popularity':>12}\")\n",
    "print(\"-\" * 35)\n",
    "\n",
    "# SAR metrics (we already have these)\n",
    "sar_precision = precision\n",
    "sar_recall = recall\n",
    "sar_ndcg = ndcg\n",
    "\n",
    "# Popularity baseline metrics\n",
    "pop_precision = precision_at_k(test_data, pop_recommendations, k)\n",
    "pop_recall = recall_at_k(test_data, pop_recommendations, k)\n",
    "pop_ndcg = ndcg_at_k(test_data, pop_recommendations, k)\n",
    "\n",
    "# Print comparison\n",
    "print(f\"Precision@{k}: {sar_precision:>10.4f} {pop_precision:>12.4f}\")\n",
    "print(f\"Recall@{k}:   {sar_recall:>10.4f} {pop_recall:>12.4f}\")\n",
    "print(f\"NDCG@{k}:     {sar_ndcg:>10.4f} {pop_ndcg:>12.4f}\")\n",
    "\n",
    "# Visualize comparison\n",
    "import matplotlib.pyplot as plt\n",
    "\n",
    "metrics = ['Precision', 'Recall', 'NDCG']\n",
    "sar_scores = [sar_precision, sar_recall, sar_ndcg]\n",
    "pop_scores = [pop_precision, pop_recall, pop_ndcg]\n",
    "\n",
    "x = np.arange(len(metrics))\n",
    "width = 0.35\n",
    "\n",
    "fig, ax = plt.subplots(figsize=(10, 6))\n",
    "rects1 = ax.bar(x - width/2, sar_scores, width, label='SAR')\n",
    "rects2 = ax.bar(x + width/2, pop_scores, width, label='Popularity')\n",
    "\n",
    "ax.set_ylabel('Score')\n",
    "ax.set_title(f'SAR vs Popularity Baseline Metrics @{k}')\n",
    "ax.set_xticks(x)\n",
    "ax.set_xticklabels(metrics)\n",
    "ax.legend()\n",
    "\n",
    "# Add value labels on top of bars\n",
    "def autolabel(rects):\n",
    "    for rect in rects:\n",
    "        height = rect.get_height()\n",
    "        ax.annotate(f'{height:.4f}',\n",
    "                   xy=(rect.get_x() + rect.get_width() / 2, height),\n",
    "                   xytext=(0, 3), \n",
    "                   textcoords=\"offset points\",\n",
    "                   ha='center', va='bottom')\n",
    "\n",
    "autolabel(rects1)\n",
    "autolabel(rects2)\n",
    "\n",
    "plt.tight_layout()\n",
    "plt.show()"
   ]
  }
 ],
 "metadata": {
  "kernelspec": {
   "display_name": "recommenders",
   "language": "python",
   "name": "python3"
  },
  "language_info": {
   "codemirror_mode": {
    "name": "ipython",
    "version": 3
   },
   "file_extension": ".py",
   "mimetype": "text/x-python",
   "name": "python",
   "nbconvert_exporter": "python",
   "pygments_lexer": "ipython3",
   "version": "3.11.9"
  }
 },
 "nbformat": 4,
 "nbformat_minor": 4
}
